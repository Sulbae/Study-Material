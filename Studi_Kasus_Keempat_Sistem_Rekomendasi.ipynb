{
  "nbformat": 4,
  "nbformat_minor": 0,
  "metadata": {
    "colab": {
      "provenance": [],
      "include_colab_link": true
    },
    "kernelspec": {
      "name": "python3",
      "display_name": "Python 3"
    },
    "language_info": {
      "name": "python"
    }
  },
  "cells": [
    {
      "cell_type": "markdown",
      "metadata": {
        "id": "view-in-github",
        "colab_type": "text"
      },
      "source": [
        "<a href=\"https://colab.research.google.com/github/Sulbae/Study-Material/blob/main/Studi_Kasus_Keempat_Sistem_Rekomendasi.ipynb\" target=\"_parent\"><img src=\"https://colab.research.google.com/assets/colab-badge.svg\" alt=\"Open In Colab\"/></a>"
      ]
    },
    {
      "cell_type": "markdown",
      "source": [
        "# 1. Singular Value Decomposition"
      ],
      "metadata": {
        "id": "seiuLoimV8mG"
      }
    },
    {
      "cell_type": "markdown",
      "source": [
        "**Definisi.** Bilangan real $\\sigma_i=\\sqrt{\\lambda_i}$ untuk $i = 1,2,\\ldots,n$ disebut **nilai singular** dari matriks $A$.\n",
        "\n",
        "**Teorema.** Jika $A$ matriks real berukuran $m \\times n$ dan $\\sigma_1 \\geqslant \\sigma_2 \\geqslant \\cdots \\geqslant \\sigma_r > 0$ nilai-nilai singular positif dari $A$, maka $r$ adalah rank dari $A$ dan $A=P\\Sigma_A 𝑄^T$ dengan $P$ dan $Q$ adalah matriks-matriks ortogonal.\n",
        "\n",
        "**ALGORITMA**\n",
        "\n",
        "**Input**: Matriks $A$ berukuran $m \\times n$.\n",
        "\n",
        "**Output**: Matriks-matriks $P$ dan $Q$ yang ortogonal dan $\\Sigma_A$ matriks  singular dari A\n",
        "\n",
        "**Langkah-langkah**: \\\n",
        "1. Tentukan nilai-nilai eigen real dan nonnegatif $\\lambda_1, \\lambda_2, \\ldots, \\lambda_n$ dari $A^T A$ sedemikian hingga $\\lambda_1 \\geqslant \\lambda_2 \\geqslant \\cdots \\geqslant \\lambda_r>0$ dan $\\lambda_i=0$ jika $i>r$ (bilangan $r$ adalah rank dari matriks $A$) dan vektor-vektor eigen (ortonormal) yang berkorespondensi $q_1, q_2, \\ldots, q_n$.\n",
        "2. Tentukan matriks $Q=\\begin{bmatrix}\n",
        "q_1 & q_2 & \\cdots & q_n \\\\\n",
        "\\end{bmatrix}$.\n",
        "3. Tentukan $p_i=\\frac{A q_i}{\\left\\|A q_i\\right\\|} \\in R^m$ untuk setiap $i=1,2, \\ldots, r$ dan perluas menjadi basis ortonormal $\\left\\{p_1, \\ldots, p_r, \\ldots, p_m\\right\\}$ untuk $R^m$.\n",
        "4. Tentukan matriks $P=\\begin{bmatrix}\n",
        "p_1 & \\cdots & p_r & \\cdots & p_m \\\\\n",
        "\\end{bmatrix}$.\n",
        "5. Tentukan nilai-nilai singular $\\sigma_1, \\ldots, \\sigma_n$ dengan $\\sigma_i=\\sqrt{\\lambda_i}$ untuk setiap $i$ dari matriks $A$.\n",
        "6. Tentukan matriks $\\Sigma_A=\\left[\\begin{array}{cc}\\operatorname{diag}\\left(\\sigma_1, \\ldots, \\sigma_r\\right) & 0 \\\\ 0 & 0\\end{array}\\right]_{m \\times n}$.\n",
        "7. Dapat dilihat bahwa $A=P \\Sigma_A Q^T$."
      ],
      "metadata": {
        "id": "SQhj68mLWkRT"
      }
    },
    {
      "cell_type": "code",
      "execution_count": null,
      "metadata": {
        "id": "Zz7PMKSWV1Dw"
      },
      "outputs": [],
      "source": [
        "import numpy as np\n",
        "from scipy.linalg import null_space\n",
        "np.set_printoptions(suppress = True)\n",
        "\n",
        "def gramschmidt(A):\n",
        "    m = np.size(A, 0)\n",
        "    n = np.size(A, 1)\n",
        "    E = np.copy(A[:, 0:1])\n",
        "    for k in range(1,n):\n",
        "        S = np.zeros((m, 1))\n",
        "        for i in range(0,k):\n",
        "            S = S + ((A[:, k:(k + 1)].T@E[:, i:(i + 1)])/(E[:, i:(i + 1)].T @ E[:, i:(i + 1)]))*E[:, i:(i + 1)]\n",
        "        E = np.concatenate((E, A[:, k:(k + 1)] - S), axis = 1)\n",
        "    return E\n",
        "\n",
        "def normal(N):\n",
        "    n = np.size(N, 1)\n",
        "    for i in range(0,n):\n",
        "        N[:, [i]] = N[:, [i]]/((N[:, [i]].T@N[:, [i]])**(1/2))\n",
        "    return N\n",
        "\n",
        "def svd(A):\n",
        "    U = np.copy(A)\n",
        "    V = U.T@U                                   #matriks A.T@A\n",
        "    u,v = np.linalg.eig(V)                      #nilai dan vektor eigen A\n",
        "    m = np.size(U, 0)\n",
        "    n = np.size(U, 1)\n",
        "    idx = np.argsort(u)[::-1]                   #sorting nilai eigen\n",
        "    u = u[idx]\n",
        "    v = v[:, idx]                               #sorting vektor eigen yang bersesuaian dengan nilai eigennya\n",
        "    r = np.linalg.matrix_rank(U)                #rank(A)\n",
        "\n",
        "    #membuat matriks Q\n",
        "    Q = np.empty((n, 1))\n",
        "    for i in range(n):\n",
        "        x = normal(v[:, [i]])\n",
        "        if i == 0:\n",
        "            Q = x\n",
        "        else:\n",
        "            Q = np.concatenate((Q, x), axis = 1)\n",
        "\n",
        "    #membuat matriks P\n",
        "    if m <= n:\n",
        "        P = np.empty((m, 1))\n",
        "        for i in range(r):\n",
        "            q = U@v[:, [i]]\n",
        "            p = normal(q)\n",
        "            if i == 0:\n",
        "                P = p\n",
        "            else:\n",
        "                P = np.concatenate((P, p), axis = 1)\n",
        "    else:\n",
        "        P = np.empty((m,1))\n",
        "        ns = null_space(U.T)\n",
        "        nsg = gramschmidt(ns)\n",
        "        nns = normal(nsg)\n",
        "        for i in range(r):\n",
        "            q = U@v[:, [i]]\n",
        "            p = normal(q)\n",
        "            if i == 0:\n",
        "                P = p\n",
        "            else:\n",
        "                P = np.concatenate((P, p), axis = 1)\n",
        "        P = np.concatenate((P, nns), axis = 1)\n",
        "\n",
        "    #membuat matriks sigma\n",
        "    sigma = np.zeros((m, n))\n",
        "    s = np.sqrt(u)\n",
        "    for i in range(0, r):\n",
        "        sigma[i, i] = s[i]\n",
        "\n",
        "    return V, P, Q, sigma"
      ]
    },
    {
      "cell_type": "code",
      "source": [
        "A = np.array([[1, 1], [0, 1], [-1, 1]])\n",
        "\n",
        "V, P, Q, sigma = svd(A)\n",
        "print('matriks A =\\n', A)\n",
        "print('\\nmatriks A.T@A =\\n', V)\n",
        "print('\\n', null_space(A.T))\n",
        "print('\\nmatriks P =\\n', P)\n",
        "print('\\nmatriks sigma =\\n', sigma)\n",
        "print('\\nmatriks Q =\\n', Q)\n",
        "print('\\ntranspose Q =\\n', Q.T)\n",
        "print('\\nCek matriks A = P@sigma@Q.T : \\n', np.round(P@sigma@Q.T))"
      ],
      "metadata": {
        "colab": {
          "base_uri": "https://localhost:8080/"
        },
        "id": "DGEONiGVXX0v",
        "outputId": "9d8bea3d-d1e3-4993-c7d4-5c3503b01543"
      },
      "execution_count": null,
      "outputs": [
        {
          "output_type": "stream",
          "name": "stdout",
          "text": [
            "matriks A =\n",
            " [[ 1  1]\n",
            " [ 0  1]\n",
            " [-1  1]]\n",
            "\n",
            "matriks A.T@A =\n",
            " [[2 0]\n",
            " [0 3]]\n",
            "\n",
            " [[ 0.40824829]\n",
            " [-0.81649658]\n",
            " [ 0.40824829]]\n",
            "\n",
            "matriks P =\n",
            " [[ 0.57735027  0.70710678  0.40824829]\n",
            " [ 0.57735027  0.         -0.81649658]\n",
            " [ 0.57735027 -0.70710678  0.40824829]]\n",
            "\n",
            "matriks sigma =\n",
            " [[1.73205081 0.        ]\n",
            " [0.         1.41421356]\n",
            " [0.         0.        ]]\n",
            "\n",
            "matriks Q =\n",
            " [[0. 1.]\n",
            " [1. 0.]]\n",
            "\n",
            "transpose Q =\n",
            " [[0. 1.]\n",
            " [1. 0.]]\n",
            "\n",
            "Cek matriks A = P@sigma@Q.T : \n",
            " [[ 1.  1.]\n",
            " [ 0.  1.]\n",
            " [-1.  1.]]\n"
          ]
        }
      ]
    },
    {
      "cell_type": "code",
      "source": [
        "B = np.array([[1, 1, 1, 0, 0],\n",
        "              [3, 3, 3, 0, 0],\n",
        "              [4, 4, 4, 0, 0],\n",
        "              [5, 5, 5, 0, 0],\n",
        "              [0, 2, 0, 4, 4],\n",
        "              [0, 0, 0, 5, 5],\n",
        "              [0, 1, 0, 2, 2]])\n",
        "\n",
        "V, P, Q, sigma = svd(B)\n",
        "print('matriks B =\\n', B)\n",
        "print('\\nmatriks B.T@B =\\n', V)\n",
        "print('\\n', null_space(B.T))\n",
        "print('\\nmatriks P =\\n', P)\n",
        "print('\\nmatriks sigma =\\n', sigma)\n",
        "print('\\nmatriks Q =\\n', Q)\n",
        "print('\\ntranspose Q =\\n', Q.T)\n",
        "print('\\nCek matriks B = P@sigma@Q.T : \\n', np.round(P@sigma@Q.T))"
      ],
      "metadata": {
        "colab": {
          "base_uri": "https://localhost:8080/"
        },
        "id": "LynQeFwTXlRq",
        "outputId": "f9d501bc-2c01-438b-de49-9c32cd9de9b3"
      },
      "execution_count": null,
      "outputs": [
        {
          "output_type": "stream",
          "name": "stdout",
          "text": [
            "matriks B =\n",
            " [[1 1 1 0 0]\n",
            " [3 3 3 0 0]\n",
            " [4 4 4 0 0]\n",
            " [5 5 5 0 0]\n",
            " [0 2 0 4 4]\n",
            " [0 0 0 5 5]\n",
            " [0 1 0 2 2]]\n",
            "\n",
            "matriks B.T@B =\n",
            " [[51 51 51  0  0]\n",
            " [51 56 51 10 10]\n",
            " [51 51 51  0  0]\n",
            " [ 0 10  0 45 45]\n",
            " [ 0 10  0 45 45]]\n",
            "\n",
            " [[-0.87439372  0.19838647  0.37573457 -0.18786729]\n",
            " [-0.32220159  0.07310258 -0.75597437  0.37798719]\n",
            " [ 0.00683366 -0.80226531  0.18460376 -0.09230188]\n",
            " [ 0.36273277  0.55827341  0.2307547  -0.11537735]\n",
            " [ 0.          0.         -0.2        -0.4       ]\n",
            " [-0.         -0.         -0.          0.        ]\n",
            " [ 0.          0.          0.4         0.8       ]]\n",
            "\n",
            "matriks P =\n",
            " [[ 0.13759913  0.02361145 -0.01080847 -0.87439372  0.19838647  0.37573457\n",
            "  -0.18786729]\n",
            " [ 0.41279738  0.07083435 -0.03242542 -0.32220159  0.07310258 -0.75597437\n",
            "   0.37798719]\n",
            " [ 0.5503965   0.09444581 -0.04323389  0.00683366 -0.80226531  0.18460376\n",
            "  -0.09230188]\n",
            " [ 0.68799563  0.11805726 -0.05404236  0.36273277  0.55827341  0.2307547\n",
            "  -0.11537735]\n",
            " [ 0.15277509 -0.59110096  0.65365084  0.          0.         -0.2\n",
            "  -0.4       ]\n",
            " [ 0.07221651 -0.73131186 -0.67820922 -0.         -0.         -0.\n",
            "   0.        ]\n",
            " [ 0.07638754 -0.29555048  0.32682542  0.          0.          0.4\n",
            "   0.8       ]]\n",
            "\n",
            "matriks sigma =\n",
            " [[12.48101469  0.          0.          0.          0.        ]\n",
            " [ 0.          9.50861406  0.          0.          0.        ]\n",
            " [ 0.          0.          1.34555971  0.          0.        ]\n",
            " [ 0.          0.          0.          0.          0.        ]\n",
            " [ 0.          0.          0.          0.          0.        ]\n",
            " [ 0.          0.          0.          0.          0.        ]\n",
            " [ 0.          0.          0.          0.          0.        ]]\n",
            "\n",
            "matriks Q =\n",
            " [[ 0.56225841  0.12664138 -0.40966748 -0.03861644 -0.70710678]\n",
            " [ 0.5928599  -0.02877058  0.80479152  0.          0.        ]\n",
            " [ 0.56225841  0.12664138 -0.40966748  0.03861644  0.70710678]\n",
            " [ 0.09013354 -0.69537622 -0.0912571  -0.70605154 -0.        ]\n",
            " [ 0.09013354 -0.69537622 -0.0912571   0.70605154 -0.        ]]\n",
            "\n",
            "transpose Q =\n",
            " [[ 0.56225841  0.5928599   0.56225841  0.09013354  0.09013354]\n",
            " [ 0.12664138 -0.02877058  0.12664138 -0.69537622 -0.69537622]\n",
            " [-0.40966748  0.80479152 -0.40966748 -0.0912571  -0.0912571 ]\n",
            " [-0.03861644  0.          0.03861644 -0.70605154  0.70605154]\n",
            " [-0.70710678  0.          0.70710678 -0.         -0.        ]]\n",
            "\n",
            "Cek matriks B = P@sigma@Q.T : \n",
            " [[ 1.  1.  1. -0. -0.]\n",
            " [ 3.  3.  3. -0. -0.]\n",
            " [ 4.  4.  4. -0. -0.]\n",
            " [ 5.  5.  5. -0. -0.]\n",
            " [ 0.  2.  0.  4.  4.]\n",
            " [-0. -0.  0.  5.  5.]\n",
            " [ 0.  1.  0.  2.  2.]]\n"
          ]
        },
        {
          "output_type": "stream",
          "name": "stderr",
          "text": [
            "<ipython-input-2-e07ed3a7389c>:68: RuntimeWarning: invalid value encountered in sqrt\n",
            "  s = np.sqrt(u)\n"
          ]
        }
      ]
    },
    {
      "cell_type": "markdown",
      "source": [
        "# 2. Similarity Measures"
      ],
      "metadata": {
        "id": "Dl2MJuXXYfs_"
      }
    },
    {
      "cell_type": "markdown",
      "source": [
        "## A. Cosine Similarity"
      ],
      "metadata": {
        "id": "Fd6R7xXzYiMh"
      }
    },
    {
      "cell_type": "markdown",
      "source": [
        "Pada library `sklearn`, kita cukup menggunakan `from sklearn.metrics.pairwise import cosine_similarity`. Pada kali ini, kita akan mencoba membuat cosine similarity dari scratch. Rumus dari cosine similarity adalah\n",
        "\n",
        "$$cos(\\theta) = \\frac{A \\cdot B}{||A|| \\cdot ||B||}$$"
      ],
      "metadata": {
        "id": "L-4eE-ZMavbY"
      }
    },
    {
      "cell_type": "code",
      "source": [
        "import numpy as np\n",
        "\n",
        "# Mendefinisikan 2 vektor\n",
        "A = np.array([2, 1, 2, 3, 2, 9])\n",
        "B = np.array([3, 4, 2, 4, 5, 5])\n",
        "\n",
        "print(\"A:\", A)\n",
        "print(\"B:\", B)\n",
        "\n",
        "# Menghitung Cosine Similarity dari vektor A dan B\n",
        "cosine = np.dot(A, B)/(np.linalg.norm(A)*np.linalg.norm(B))\n",
        "print(\"Cosine Similarity:\", cosine)"
      ],
      "metadata": {
        "colab": {
          "base_uri": "https://localhost:8080/"
        },
        "id": "p5GTWcd5ZMbd",
        "outputId": "560f0e60-3f7d-4d20-b867-74f45fb7f8ae"
      },
      "execution_count": null,
      "outputs": [
        {
          "output_type": "stream",
          "name": "stdout",
          "text": [
            "A: [2 1 2 3 2 9]\n",
            "B: [3 4 2 4 5 5]\n",
            "Cosine Similarity: 0.8188504723485274\n"
          ]
        }
      ]
    },
    {
      "cell_type": "code",
      "source": [
        "cosine_similarity = (2*3 + 1*4 + 2*2 + 3*4 + 2*5 + 9*5) / \\\n",
        "                    (np.sqrt(2**2 + 1**2 + 2**2 + 3**2 + 2**2 + 9**2) * \\\n",
        "                    np.sqrt(3**2 + 4**2 + 2**2 + 4**2 + 5**2 + 5**2))\n",
        "print(cosine_similarity)"
      ],
      "metadata": {
        "colab": {
          "base_uri": "https://localhost:8080/"
        },
        "id": "FEQxzAR-aU42",
        "outputId": "5de1e328-8b1a-4655-e6e3-682d9f2d975f"
      },
      "execution_count": null,
      "outputs": [
        {
          "output_type": "stream",
          "name": "stdout",
          "text": [
            "0.8188504723485274\n"
          ]
        }
      ]
    },
    {
      "cell_type": "code",
      "source": [
        "# Mendefinisikan 1 matriks dan 1 vektor\n",
        "A = np.array([[2, 1, 2],\n",
        "              [3, 2, 9],\n",
        "              [-1, 2, -3]])\n",
        "B = np.array([3, 4, 2])\n",
        "print(\"A:\\n\", A)\n",
        "print(\"B:\\n\", B)\n",
        "\n",
        "# Menghitung cosine similarity per baris matriks\n",
        "cosine = np.dot(A, B)/(np.linalg.norm(A, axis = 1)*np.linalg.norm(B))\n",
        "print(\"Cosine Similarity:\\n\", cosine)"
      ],
      "metadata": {
        "colab": {
          "base_uri": "https://localhost:8080/"
        },
        "id": "zGFDBxMcbNyg",
        "outputId": "16dc7600-3157-4b1c-d823-96706072668f"
      },
      "execution_count": null,
      "outputs": [
        {
          "output_type": "stream",
          "name": "stdout",
          "text": [
            "A:\n",
            " [[ 2  1  2]\n",
            " [ 3  2  9]\n",
            " [-1  2 -3]]\n",
            "B:\n",
            " [3 4 2]\n",
            "Cosine Similarity:\n",
            " [ 0.86657824  0.67035541 -0.04962917]\n"
          ]
        }
      ]
    },
    {
      "cell_type": "code",
      "source": [
        "A1_dot_B = 2*3 + 1*4 + 2*2\n",
        "A2_dot_B = 3*3 + 2*4 + 9*2\n",
        "A3_dot_B = -1*3 + 2*4 + -3*2\n",
        "\n",
        "A1_norm = np.sqrt(2**2 + 1**2 + 2**2)\n",
        "A2_norm = np.sqrt(3**2 + 2**2 + 9**2)\n",
        "A3_norm = np.sqrt((-1)**2 + 2**2 + (-3)**2)\n",
        "B_norm = np.sqrt(3**2 + 4**2 + 2**2)\n",
        "\n",
        "cosine_similarity_A1 = A1_dot_B / (A1_norm * B_norm)\n",
        "cosine_similarity_A2 = A2_dot_B / (A2_norm * B_norm)\n",
        "cosine_similarity_A3 = A3_dot_B / (A3_norm * B_norm)\n",
        "\n",
        "print(\"Cosine Similarity Baris Pertama A terhadap B: \", cosine_similarity_A1)\n",
        "print(\"Cosine Similarity Baris Kedua A terhadap B: \", cosine_similarity_A2)\n",
        "print(\"Cosine Similarity Baris Ketiga A terhadap B: \", cosine_similarity_A3)"
      ],
      "metadata": {
        "colab": {
          "base_uri": "https://localhost:8080/"
        },
        "id": "DkKhoXw0dKDi",
        "outputId": "5e3f7384-f76a-413d-f9eb-ecddf72138c3"
      },
      "execution_count": null,
      "outputs": [
        {
          "output_type": "stream",
          "name": "stdout",
          "text": [
            "Cosine Similarity Baris Pertama A terhadap B:  0.8665782448262421\n",
            "Cosine Similarity Baris Kedua A terhadap B:  0.6703554099445802\n",
            "Cosine Similarity Baris Ketiga A terhadap B:  -0.049629166698546515\n"
          ]
        }
      ]
    },
    {
      "cell_type": "code",
      "source": [
        "# Mendefinisikan 2 matriks\n",
        "A = np.array([[1, 2, 2],\n",
        "              [3, 2, 2],\n",
        "              [-2, 1, -3]])\n",
        "B = np.array([[4, 2, 4],\n",
        "              [2, -2, 5],\n",
        "              [3, 4, -4]])\n",
        "\n",
        "print(\"A:\\n\", A)\n",
        "print(\"B:\\n\", B)\n",
        "\n",
        "# Menghitung cosine similarity per kolom matriks\n",
        "cosine = np.sum(A*B, axis = 1)/(np.linalg.norm(A, axis = 1)*np.linalg.norm(B, axis = 1))\n",
        "print(\"Cosine Similarity:\\n\", cosine)"
      ],
      "metadata": {
        "colab": {
          "base_uri": "https://localhost:8080/"
        },
        "id": "YGlBkRVvb0uf",
        "outputId": "5f6ae120-ab2f-4078-f0c4-f72ab94adccf"
      },
      "execution_count": null,
      "outputs": [
        {
          "output_type": "stream",
          "name": "stdout",
          "text": [
            "A:\n",
            " [[ 1  2  2]\n",
            " [ 3  2  2]\n",
            " [-2  1 -3]]\n",
            "B:\n",
            " [[ 4  2  4]\n",
            " [ 2 -2  5]\n",
            " [ 3  4 -4]]\n",
            "Cosine Similarity:\n",
            " [0.88888889 0.5066404  0.41739194]\n"
          ]
        }
      ]
    },
    {
      "cell_type": "markdown",
      "source": [
        "## B. Euclidean Distance"
      ],
      "metadata": {
        "id": "GwaoQYYBeg0Z"
      }
    },
    {
      "cell_type": "markdown",
      "source": [
        "Pada library `sklearn`, kita cukup menggunakan `from sklearn.metrics.pairwise import euclidean_distances`. Pada kali ini, kita akan mencoba membuat cosine similarity dari scratch. Rumus dari euclidean distance adalah\n",
        "\n",
        "$$d(x, y) = \\sqrt{\\sum_{i = 1}^n (x_i - y_i)^2}$$"
      ],
      "metadata": {
        "id": "WE04KLnVe4uq"
      }
    },
    {
      "cell_type": "code",
      "source": [
        "import numpy as np\n",
        "\n",
        "# Mendefinisikan 2 titik pada 2 dimensi\n",
        "point1 = [3, 4]\n",
        "point2 = [7, 1]\n",
        "\n",
        "# Menghitung Euclidean distance\n",
        "distance = np.sqrt((point2[0] - point1[0])**2 + (point2[1] - point1[1])**2)\n",
        "print(\"Euclidean Distance (2D):\", distance)"
      ],
      "metadata": {
        "colab": {
          "base_uri": "https://localhost:8080/"
        },
        "id": "fjD30RPng3Wj",
        "outputId": "150df58e-66aa-4817-a72a-d94e38dfcf5b"
      },
      "execution_count": null,
      "outputs": [
        {
          "output_type": "stream",
          "name": "stdout",
          "text": [
            "Euclidean Distance (2D): 5.0\n"
          ]
        }
      ]
    },
    {
      "cell_type": "code",
      "source": [
        "# Mendefinisikan 2 titik pada 3 dimensi\n",
        "point1 = [1, 2, 3]\n",
        "point2 = [4, 5, 6]\n",
        "\n",
        "# Calculate Euclidean distance\n",
        "distance = ((point2[0] - point1[0])**2 +\n",
        "            (point2[1] - point1[1])**2 +\n",
        "            (point2[2] - point1[2])**2)**0.5\n",
        "print(\"Euclidean Distance (3D):\", distance)"
      ],
      "metadata": {
        "colab": {
          "base_uri": "https://localhost:8080/"
        },
        "id": "9c25KJvTg6xr",
        "outputId": "bad6ef20-3be3-4cb4-c205-7eba62e46252"
      },
      "execution_count": null,
      "outputs": [
        {
          "output_type": "stream",
          "name": "stdout",
          "text": [
            "Euclidean Distance (3D): 5.196152422706632\n"
          ]
        }
      ]
    },
    {
      "cell_type": "code",
      "source": [
        "#Mendefinisikan list 2 titik yang berisi list\n",
        "points1 = [[1, 2], [3, 4], [5, 6]]\n",
        "points2 = [[7, 8], [9, 10], [11, 12]]\n",
        "\n",
        "# Menghitung Euclidean distance secara pairwise\n",
        "distances = []\n",
        "for p1, p2 in zip(points1, points2):\n",
        "    distance = sum((p2[i] - p1[i])**2 for i in range(len(p1)))**0.5\n",
        "    distances.append(distance)\n",
        "\n",
        "print(\"Pairwise Euclidean Distances:\", distances)"
      ],
      "metadata": {
        "colab": {
          "base_uri": "https://localhost:8080/"
        },
        "id": "nfoc-oIag9A-",
        "outputId": "2c53fb43-38db-46ad-fb39-86af61800b64"
      },
      "execution_count": null,
      "outputs": [
        {
          "output_type": "stream",
          "name": "stdout",
          "text": [
            "Pairwise Euclidean Distances: [8.48528137423857, 8.48528137423857, 8.48528137423857]\n"
          ]
        }
      ]
    },
    {
      "cell_type": "markdown",
      "source": [
        "# 3. Content-based Filtering"
      ],
      "metadata": {
        "id": "QiPLEqhlhs27"
      }
    },
    {
      "cell_type": "code",
      "source": [
        "import pandas as pd\n",
        "import numpy as np\n",
        "import matplotlib.pyplot as plt"
      ],
      "metadata": {
        "id": "cGI2rO9lh6pa"
      },
      "execution_count": null,
      "outputs": []
    },
    {
      "cell_type": "code",
      "source": [
        "# Reading movies file\n",
        "movies = pd.read_csv(\"movies.csv\", sep = \",\", encoding = \"latin-1\", usecols = [\"title\", \"genres\"])\n",
        "movies.head()"
      ],
      "metadata": {
        "colab": {
          "base_uri": "https://localhost:8080/",
          "height": 206
        },
        "id": "-jnRITckh9ls",
        "outputId": "5c51659d-9626-495f-bd20-fe2841c8e451"
      },
      "execution_count": null,
      "outputs": [
        {
          "output_type": "execute_result",
          "data": {
            "text/plain": [
              "                          title                                       genres\n",
              "0                    Toy Story   Adventure|Animation|Children|Comedy|Fantasy\n",
              "1                      Jumanji                    Adventure|Children|Fantasy\n",
              "2             Grumpier Old Men                                Comedy|Romance\n",
              "3            Waiting to Exhale                          Comedy|Drama|Romance\n",
              "4  Father of the Bride Part II                                        Comedy"
            ],
            "text/html": [
              "\n",
              "  <div id=\"df-d5efff31-7b5b-43a1-9695-b5b34803b28e\" class=\"colab-df-container\">\n",
              "    <div>\n",
              "<style scoped>\n",
              "    .dataframe tbody tr th:only-of-type {\n",
              "        vertical-align: middle;\n",
              "    }\n",
              "\n",
              "    .dataframe tbody tr th {\n",
              "        vertical-align: top;\n",
              "    }\n",
              "\n",
              "    .dataframe thead th {\n",
              "        text-align: right;\n",
              "    }\n",
              "</style>\n",
              "<table border=\"1\" class=\"dataframe\">\n",
              "  <thead>\n",
              "    <tr style=\"text-align: right;\">\n",
              "      <th></th>\n",
              "      <th>title</th>\n",
              "      <th>genres</th>\n",
              "    </tr>\n",
              "  </thead>\n",
              "  <tbody>\n",
              "    <tr>\n",
              "      <th>0</th>\n",
              "      <td>Toy Story</td>\n",
              "      <td>Adventure|Animation|Children|Comedy|Fantasy</td>\n",
              "    </tr>\n",
              "    <tr>\n",
              "      <th>1</th>\n",
              "      <td>Jumanji</td>\n",
              "      <td>Adventure|Children|Fantasy</td>\n",
              "    </tr>\n",
              "    <tr>\n",
              "      <th>2</th>\n",
              "      <td>Grumpier Old Men</td>\n",
              "      <td>Comedy|Romance</td>\n",
              "    </tr>\n",
              "    <tr>\n",
              "      <th>3</th>\n",
              "      <td>Waiting to Exhale</td>\n",
              "      <td>Comedy|Drama|Romance</td>\n",
              "    </tr>\n",
              "    <tr>\n",
              "      <th>4</th>\n",
              "      <td>Father of the Bride Part II</td>\n",
              "      <td>Comedy</td>\n",
              "    </tr>\n",
              "  </tbody>\n",
              "</table>\n",
              "</div>\n",
              "    <div class=\"colab-df-buttons\">\n",
              "\n",
              "  <div class=\"colab-df-container\">\n",
              "    <button class=\"colab-df-convert\" onclick=\"convertToInteractive('df-d5efff31-7b5b-43a1-9695-b5b34803b28e')\"\n",
              "            title=\"Convert this dataframe to an interactive table.\"\n",
              "            style=\"display:none;\">\n",
              "\n",
              "  <svg xmlns=\"http://www.w3.org/2000/svg\" height=\"24px\" viewBox=\"0 -960 960 960\">\n",
              "    <path d=\"M120-120v-720h720v720H120Zm60-500h600v-160H180v160Zm220 220h160v-160H400v160Zm0 220h160v-160H400v160ZM180-400h160v-160H180v160Zm440 0h160v-160H620v160ZM180-180h160v-160H180v160Zm440 0h160v-160H620v160Z\"/>\n",
              "  </svg>\n",
              "    </button>\n",
              "\n",
              "  <style>\n",
              "    .colab-df-container {\n",
              "      display:flex;\n",
              "      gap: 12px;\n",
              "    }\n",
              "\n",
              "    .colab-df-convert {\n",
              "      background-color: #E8F0FE;\n",
              "      border: none;\n",
              "      border-radius: 50%;\n",
              "      cursor: pointer;\n",
              "      display: none;\n",
              "      fill: #1967D2;\n",
              "      height: 32px;\n",
              "      padding: 0 0 0 0;\n",
              "      width: 32px;\n",
              "    }\n",
              "\n",
              "    .colab-df-convert:hover {\n",
              "      background-color: #E2EBFA;\n",
              "      box-shadow: 0px 1px 2px rgba(60, 64, 67, 0.3), 0px 1px 3px 1px rgba(60, 64, 67, 0.15);\n",
              "      fill: #174EA6;\n",
              "    }\n",
              "\n",
              "    .colab-df-buttons div {\n",
              "      margin-bottom: 4px;\n",
              "    }\n",
              "\n",
              "    [theme=dark] .colab-df-convert {\n",
              "      background-color: #3B4455;\n",
              "      fill: #D2E3FC;\n",
              "    }\n",
              "\n",
              "    [theme=dark] .colab-df-convert:hover {\n",
              "      background-color: #434B5C;\n",
              "      box-shadow: 0px 1px 3px 1px rgba(0, 0, 0, 0.15);\n",
              "      filter: drop-shadow(0px 1px 2px rgba(0, 0, 0, 0.3));\n",
              "      fill: #FFFFFF;\n",
              "    }\n",
              "  </style>\n",
              "\n",
              "    <script>\n",
              "      const buttonEl =\n",
              "        document.querySelector('#df-d5efff31-7b5b-43a1-9695-b5b34803b28e button.colab-df-convert');\n",
              "      buttonEl.style.display =\n",
              "        google.colab.kernel.accessAllowed ? 'block' : 'none';\n",
              "\n",
              "      async function convertToInteractive(key) {\n",
              "        const element = document.querySelector('#df-d5efff31-7b5b-43a1-9695-b5b34803b28e');\n",
              "        const dataTable =\n",
              "          await google.colab.kernel.invokeFunction('convertToInteractive',\n",
              "                                                    [key], {});\n",
              "        if (!dataTable) return;\n",
              "\n",
              "        const docLinkHtml = 'Like what you see? Visit the ' +\n",
              "          '<a target=\"_blank\" href=https://colab.research.google.com/notebooks/data_table.ipynb>data table notebook</a>'\n",
              "          + ' to learn more about interactive tables.';\n",
              "        element.innerHTML = '';\n",
              "        dataTable['output_type'] = 'display_data';\n",
              "        await google.colab.output.renderOutput(dataTable, element);\n",
              "        const docLink = document.createElement('div');\n",
              "        docLink.innerHTML = docLinkHtml;\n",
              "        element.appendChild(docLink);\n",
              "      }\n",
              "    </script>\n",
              "  </div>\n",
              "\n",
              "\n",
              "<div id=\"df-abf0a91c-d331-43f2-85f8-f67bd1cde155\">\n",
              "  <button class=\"colab-df-quickchart\" onclick=\"quickchart('df-abf0a91c-d331-43f2-85f8-f67bd1cde155')\"\n",
              "            title=\"Suggest charts\"\n",
              "            style=\"display:none;\">\n",
              "\n",
              "<svg xmlns=\"http://www.w3.org/2000/svg\" height=\"24px\"viewBox=\"0 0 24 24\"\n",
              "     width=\"24px\">\n",
              "    <g>\n",
              "        <path d=\"M19 3H5c-1.1 0-2 .9-2 2v14c0 1.1.9 2 2 2h14c1.1 0 2-.9 2-2V5c0-1.1-.9-2-2-2zM9 17H7v-7h2v7zm4 0h-2V7h2v10zm4 0h-2v-4h2v4z\"/>\n",
              "    </g>\n",
              "</svg>\n",
              "  </button>\n",
              "\n",
              "<style>\n",
              "  .colab-df-quickchart {\n",
              "      --bg-color: #E8F0FE;\n",
              "      --fill-color: #1967D2;\n",
              "      --hover-bg-color: #E2EBFA;\n",
              "      --hover-fill-color: #174EA6;\n",
              "      --disabled-fill-color: #AAA;\n",
              "      --disabled-bg-color: #DDD;\n",
              "  }\n",
              "\n",
              "  [theme=dark] .colab-df-quickchart {\n",
              "      --bg-color: #3B4455;\n",
              "      --fill-color: #D2E3FC;\n",
              "      --hover-bg-color: #434B5C;\n",
              "      --hover-fill-color: #FFFFFF;\n",
              "      --disabled-bg-color: #3B4455;\n",
              "      --disabled-fill-color: #666;\n",
              "  }\n",
              "\n",
              "  .colab-df-quickchart {\n",
              "    background-color: var(--bg-color);\n",
              "    border: none;\n",
              "    border-radius: 50%;\n",
              "    cursor: pointer;\n",
              "    display: none;\n",
              "    fill: var(--fill-color);\n",
              "    height: 32px;\n",
              "    padding: 0;\n",
              "    width: 32px;\n",
              "  }\n",
              "\n",
              "  .colab-df-quickchart:hover {\n",
              "    background-color: var(--hover-bg-color);\n",
              "    box-shadow: 0 1px 2px rgba(60, 64, 67, 0.3), 0 1px 3px 1px rgba(60, 64, 67, 0.15);\n",
              "    fill: var(--button-hover-fill-color);\n",
              "  }\n",
              "\n",
              "  .colab-df-quickchart-complete:disabled,\n",
              "  .colab-df-quickchart-complete:disabled:hover {\n",
              "    background-color: var(--disabled-bg-color);\n",
              "    fill: var(--disabled-fill-color);\n",
              "    box-shadow: none;\n",
              "  }\n",
              "\n",
              "  .colab-df-spinner {\n",
              "    border: 2px solid var(--fill-color);\n",
              "    border-color: transparent;\n",
              "    border-bottom-color: var(--fill-color);\n",
              "    animation:\n",
              "      spin 1s steps(1) infinite;\n",
              "  }\n",
              "\n",
              "  @keyframes spin {\n",
              "    0% {\n",
              "      border-color: transparent;\n",
              "      border-bottom-color: var(--fill-color);\n",
              "      border-left-color: var(--fill-color);\n",
              "    }\n",
              "    20% {\n",
              "      border-color: transparent;\n",
              "      border-left-color: var(--fill-color);\n",
              "      border-top-color: var(--fill-color);\n",
              "    }\n",
              "    30% {\n",
              "      border-color: transparent;\n",
              "      border-left-color: var(--fill-color);\n",
              "      border-top-color: var(--fill-color);\n",
              "      border-right-color: var(--fill-color);\n",
              "    }\n",
              "    40% {\n",
              "      border-color: transparent;\n",
              "      border-right-color: var(--fill-color);\n",
              "      border-top-color: var(--fill-color);\n",
              "    }\n",
              "    60% {\n",
              "      border-color: transparent;\n",
              "      border-right-color: var(--fill-color);\n",
              "    }\n",
              "    80% {\n",
              "      border-color: transparent;\n",
              "      border-right-color: var(--fill-color);\n",
              "      border-bottom-color: var(--fill-color);\n",
              "    }\n",
              "    90% {\n",
              "      border-color: transparent;\n",
              "      border-bottom-color: var(--fill-color);\n",
              "    }\n",
              "  }\n",
              "</style>\n",
              "\n",
              "  <script>\n",
              "    async function quickchart(key) {\n",
              "      const quickchartButtonEl =\n",
              "        document.querySelector('#' + key + ' button');\n",
              "      quickchartButtonEl.disabled = true;  // To prevent multiple clicks.\n",
              "      quickchartButtonEl.classList.add('colab-df-spinner');\n",
              "      try {\n",
              "        const charts = await google.colab.kernel.invokeFunction(\n",
              "            'suggestCharts', [key], {});\n",
              "      } catch (error) {\n",
              "        console.error('Error during call to suggestCharts:', error);\n",
              "      }\n",
              "      quickchartButtonEl.classList.remove('colab-df-spinner');\n",
              "      quickchartButtonEl.classList.add('colab-df-quickchart-complete');\n",
              "    }\n",
              "    (() => {\n",
              "      let quickchartButtonEl =\n",
              "        document.querySelector('#df-abf0a91c-d331-43f2-85f8-f67bd1cde155 button');\n",
              "      quickchartButtonEl.style.display =\n",
              "        google.colab.kernel.accessAllowed ? 'block' : 'none';\n",
              "    })();\n",
              "  </script>\n",
              "</div>\n",
              "\n",
              "    </div>\n",
              "  </div>\n"
            ],
            "application/vnd.google.colaboratory.intrinsic+json": {
              "type": "dataframe",
              "variable_name": "movies",
              "summary": "{\n  \"name\": \"movies\",\n  \"rows\": 9742,\n  \"fields\": [\n    {\n      \"column\": \"title\",\n      \"properties\": {\n        \"dtype\": \"string\",\n        \"num_unique_values\": 9462,\n        \"samples\": [\n          \"Nanny Diaries, The \",\n          \"Afflicted \",\n          \"Dark Passage \"\n        ],\n        \"semantic_type\": \"\",\n        \"description\": \"\"\n      }\n    },\n    {\n      \"column\": \"genres\",\n      \"properties\": {\n        \"dtype\": \"category\",\n        \"num_unique_values\": 951,\n        \"samples\": [\n          \"Crime|Mystery|Romance|Thriller\",\n          \"Action|Adventure|Comedy|Western\",\n          \"Crime|Drama|Musical\"\n        ],\n        \"semantic_type\": \"\",\n        \"description\": \"\"\n      }\n    }\n  ]\n}"
            }
          },
          "metadata": {},
          "execution_count": 25
        }
      ]
    },
    {
      "cell_type": "code",
      "source": [
        "# Break up the big genre string into a string array\n",
        "movies[\"genres\"] = movies[\"genres\"].str.split(\"|\")\n",
        "# Convert genres to string value\n",
        "movies[\"genres\"] = movies[\"genres\"].fillna(\"\").astype(\"str\")"
      ],
      "metadata": {
        "id": "6XXuGYLAiOhf"
      },
      "execution_count": null,
      "outputs": []
    },
    {
      "cell_type": "markdown",
      "source": [
        "## A. Rekomendasi Film Berdasarkan Genre"
      ],
      "metadata": {
        "id": "8L_xKGUniY3V"
      }
    },
    {
      "cell_type": "code",
      "source": [
        "from sklearn.feature_extraction.text import TfidfVectorizer\n",
        "tf = TfidfVectorizer(analyzer = \"word\",ngram_range = (1, 2),min_df = 1, stop_words = \"english\")\n",
        "tfidf_matrix = tf.fit_transform(movies[\"genres\"])\n",
        "tfidf_matrix.shape"
      ],
      "metadata": {
        "colab": {
          "base_uri": "https://localhost:8080/"
        },
        "id": "L5_VHLT7iP8H",
        "outputId": "58920608-ce9f-4189-f0e7-6b219481bb34"
      },
      "execution_count": null,
      "outputs": [
        {
          "output_type": "execute_result",
          "data": {
            "text/plain": [
              "(9742, 177)"
            ]
          },
          "metadata": {},
          "execution_count": 48
        }
      ]
    },
    {
      "cell_type": "code",
      "source": [
        "from sklearn.metrics.pairwise import cosine_similarity\n",
        "cosine_sim = cosine_similarity(tfidf_matrix, tfidf_matrix)\n",
        "cosine_sim[:4, :4]"
      ],
      "metadata": {
        "colab": {
          "base_uri": "https://localhost:8080/"
        },
        "id": "k3-CdU8IiRP-",
        "outputId": "fd2845c6-f482-450c-ffe4-759445550bf1"
      },
      "execution_count": null,
      "outputs": [
        {
          "output_type": "execute_result",
          "data": {
            "text/plain": [
              "array([[1.        , 0.31379419, 0.0611029 , 0.05271111],\n",
              "       [0.31379419, 1.        , 0.        , 0.        ],\n",
              "       [0.0611029 , 0.        , 1.        , 0.35172407],\n",
              "       [0.05271111, 0.        , 0.35172407, 1.        ]])"
            ]
          },
          "metadata": {},
          "execution_count": 49
        }
      ]
    },
    {
      "cell_type": "code",
      "source": [
        "# Build a 1-dimensional array with movie titles\n",
        "titles = movies[\"title\"]\n",
        "indices = pd.Series(movies.index, index = movies[\"title\"])\n",
        "\n",
        "# Function that get movie recommendations based on the cosine similarity score of movie genres\n",
        "def genre_recommendations(title):\n",
        "    idx = indices[title]\n",
        "    sim_scores = list(enumerate(cosine_sim[idx]))\n",
        "    sim_scores = sorted(sim_scores, key = lambda x: x[1], reverse = True)\n",
        "    sim_scores = sim_scores[1:21]\n",
        "    movie_indices = [i[0] for i in sim_scores]\n",
        "    return titles.iloc[movie_indices]"
      ],
      "metadata": {
        "id": "OWJFDO43iTa8"
      },
      "execution_count": null,
      "outputs": []
    },
    {
      "cell_type": "code",
      "source": [
        "genre_recommendations(\"Dark Knight \").head(20)"
      ],
      "metadata": {
        "colab": {
          "base_uri": "https://localhost:8080/",
          "height": 711
        },
        "id": "eDHezML6iUzk",
        "outputId": "6862f4d1-2ec1-4c8a-edef-c8bac8d10729"
      },
      "execution_count": null,
      "outputs": [
        {
          "output_type": "execute_result",
          "data": {
            "text/plain": [
              "8387                          Need for Speed \n",
              "8149      Grandmaster, The (Yi dai zong shi) \n",
              "123                                Apollo 13 \n",
              "8026                              Life of Pi \n",
              "8396                                    Noah \n",
              "38                           Dead Presidents \n",
              "341                              Bad Company \n",
              "347             Faster Pussycat! Kill! Kill! \n",
              "430                        Menace II Society \n",
              "568                          Substitute, The \n",
              "665                          Nothing to Lose \n",
              "1645                       Untouchables, The \n",
              "1696                           Monument Ave. \n",
              "2563                              Death Wish \n",
              "2574                        Band of the Hand \n",
              "3037                              Foxy Brown \n",
              "3124    Harley Davidson and the Marlboro Man \n",
              "3167                                Scarface \n",
              "3217                               Swordfish \n",
              "3301                           Above the Law \n",
              "Name: title, dtype: object"
            ],
            "text/html": [
              "<div>\n",
              "<style scoped>\n",
              "    .dataframe tbody tr th:only-of-type {\n",
              "        vertical-align: middle;\n",
              "    }\n",
              "\n",
              "    .dataframe tbody tr th {\n",
              "        vertical-align: top;\n",
              "    }\n",
              "\n",
              "    .dataframe thead th {\n",
              "        text-align: right;\n",
              "    }\n",
              "</style>\n",
              "<table border=\"1\" class=\"dataframe\">\n",
              "  <thead>\n",
              "    <tr style=\"text-align: right;\">\n",
              "      <th></th>\n",
              "      <th>title</th>\n",
              "    </tr>\n",
              "  </thead>\n",
              "  <tbody>\n",
              "    <tr>\n",
              "      <th>8387</th>\n",
              "      <td>Need for Speed</td>\n",
              "    </tr>\n",
              "    <tr>\n",
              "      <th>8149</th>\n",
              "      <td>Grandmaster, The (Yi dai zong shi)</td>\n",
              "    </tr>\n",
              "    <tr>\n",
              "      <th>123</th>\n",
              "      <td>Apollo 13</td>\n",
              "    </tr>\n",
              "    <tr>\n",
              "      <th>8026</th>\n",
              "      <td>Life of Pi</td>\n",
              "    </tr>\n",
              "    <tr>\n",
              "      <th>8396</th>\n",
              "      <td>Noah</td>\n",
              "    </tr>\n",
              "    <tr>\n",
              "      <th>38</th>\n",
              "      <td>Dead Presidents</td>\n",
              "    </tr>\n",
              "    <tr>\n",
              "      <th>341</th>\n",
              "      <td>Bad Company</td>\n",
              "    </tr>\n",
              "    <tr>\n",
              "      <th>347</th>\n",
              "      <td>Faster Pussycat! Kill! Kill!</td>\n",
              "    </tr>\n",
              "    <tr>\n",
              "      <th>430</th>\n",
              "      <td>Menace II Society</td>\n",
              "    </tr>\n",
              "    <tr>\n",
              "      <th>568</th>\n",
              "      <td>Substitute, The</td>\n",
              "    </tr>\n",
              "    <tr>\n",
              "      <th>665</th>\n",
              "      <td>Nothing to Lose</td>\n",
              "    </tr>\n",
              "    <tr>\n",
              "      <th>1645</th>\n",
              "      <td>Untouchables, The</td>\n",
              "    </tr>\n",
              "    <tr>\n",
              "      <th>1696</th>\n",
              "      <td>Monument Ave.</td>\n",
              "    </tr>\n",
              "    <tr>\n",
              "      <th>2563</th>\n",
              "      <td>Death Wish</td>\n",
              "    </tr>\n",
              "    <tr>\n",
              "      <th>2574</th>\n",
              "      <td>Band of the Hand</td>\n",
              "    </tr>\n",
              "    <tr>\n",
              "      <th>3037</th>\n",
              "      <td>Foxy Brown</td>\n",
              "    </tr>\n",
              "    <tr>\n",
              "      <th>3124</th>\n",
              "      <td>Harley Davidson and the Marlboro Man</td>\n",
              "    </tr>\n",
              "    <tr>\n",
              "      <th>3167</th>\n",
              "      <td>Scarface</td>\n",
              "    </tr>\n",
              "    <tr>\n",
              "      <th>3217</th>\n",
              "      <td>Swordfish</td>\n",
              "    </tr>\n",
              "    <tr>\n",
              "      <th>3301</th>\n",
              "      <td>Above the Law</td>\n",
              "    </tr>\n",
              "  </tbody>\n",
              "</table>\n",
              "</div><br><label><b>dtype:</b> object</label>"
            ]
          },
          "metadata": {},
          "execution_count": 51
        }
      ]
    },
    {
      "cell_type": "markdown",
      "source": [
        "## B. Rekomendasi Film Berdasarkan Judul"
      ],
      "metadata": {
        "id": "1i9xpPEEifmU"
      }
    },
    {
      "cell_type": "code",
      "source": [
        "from sklearn.feature_extraction.text import TfidfVectorizer\n",
        "tf = TfidfVectorizer(analyzer = \"word\", ngram_range = (1, 2), min_df = 1, stop_words = \"english\")\n",
        "tfidf_matrix = tf.fit_transform(movies[\"title\"])\n",
        "tfidf_matrix.shape"
      ],
      "metadata": {
        "colab": {
          "base_uri": "https://localhost:8080/"
        },
        "id": "n5r7Y7JNijLs",
        "outputId": "6cc2d81c-402c-4cc8-b09b-fdaf2033fbbb"
      },
      "execution_count": null,
      "outputs": [
        {
          "output_type": "execute_result",
          "data": {
            "text/plain": [
              "(9742, 20558)"
            ]
          },
          "metadata": {},
          "execution_count": 44
        }
      ]
    },
    {
      "cell_type": "code",
      "source": [
        "from sklearn.metrics.pairwise import cosine_similarity\n",
        "cosine_sim = cosine_similarity(tfidf_matrix, tfidf_matrix)\n",
        "cosine_sim[:4, :4]"
      ],
      "metadata": {
        "colab": {
          "base_uri": "https://localhost:8080/"
        },
        "id": "O3bHIo2UikrW",
        "outputId": "7bf09f84-a3ef-476e-e317-8fb4699b22c1"
      },
      "execution_count": null,
      "outputs": [
        {
          "output_type": "execute_result",
          "data": {
            "text/plain": [
              "array([[1., 0., 0., 0.],\n",
              "       [0., 1., 0., 0.],\n",
              "       [0., 0., 1., 0.],\n",
              "       [0., 0., 0., 1.]])"
            ]
          },
          "metadata": {},
          "execution_count": 45
        }
      ]
    },
    {
      "cell_type": "code",
      "source": [
        "# Build a 1-dimensional array with movie titles\n",
        "titles = movies[\"title\"]\n",
        "indices = pd.Series(movies.index, index = movies[\"title\"])\n",
        "\n",
        "# Function that get movie recommendations based on the cosine similarity score of movie genres\n",
        "def title_recommendations(title):\n",
        "    idx = indices[title]\n",
        "    sim_scores = list(enumerate(cosine_sim[idx]))\n",
        "    sim_scores = sorted(sim_scores, key = lambda x: x[1], reverse=True)\n",
        "    sim_scores = sim_scores[1:21]\n",
        "    movie_indices = [i[0] for i in sim_scores]\n",
        "    return titles.iloc[movie_indices]"
      ],
      "metadata": {
        "id": "b5tnFZ84imHU"
      },
      "execution_count": null,
      "outputs": []
    },
    {
      "cell_type": "code",
      "source": [
        "title_recommendations('Dark Knight ').head(20)"
      ],
      "metadata": {
        "colab": {
          "base_uri": "https://localhost:8080/",
          "height": 711
        },
        "id": "RD0jFp7Hingt",
        "outputId": "36dd50ee-c345-4aab-aa7e-49fbc07483a5"
      },
      "execution_count": null,
      "outputs": [
        {
          "output_type": "execute_result",
          "data": {
            "text/plain": [
              "7768                     Dark Knight Rises, The \n",
              "8032    Batman: The Dark Knight Returns, Part 1 \n",
              "8080    Batman: The Dark Knight Returns, Part 2 \n",
              "140                                First Knight \n",
              "2417                         Cry in the Dark, A \n",
              "5778                          Alone in the Dark \n",
              "7375                             Knight and Day \n",
              "3576                               Black Knight \n",
              "3190                           Knight's Tale, A \n",
              "6858                       Alone in the Dark II \n",
              "4242                                  Dark Blue \n",
              "5060                                  Dark Days \n",
              "1305                                  Dark City \n",
              "5483                                  Dark Star \n",
              "6815                      Batman: Gotham Knight \n",
              "5934                                 Dark Water \n",
              "4749                        Shot in the Dark, A \n",
              "7877                               Dark Shadows \n",
              "8766                            The Dark Valley \n",
              "6690                      Taxi to the Dark Side \n",
              "Name: title, dtype: object"
            ],
            "text/html": [
              "<div>\n",
              "<style scoped>\n",
              "    .dataframe tbody tr th:only-of-type {\n",
              "        vertical-align: middle;\n",
              "    }\n",
              "\n",
              "    .dataframe tbody tr th {\n",
              "        vertical-align: top;\n",
              "    }\n",
              "\n",
              "    .dataframe thead th {\n",
              "        text-align: right;\n",
              "    }\n",
              "</style>\n",
              "<table border=\"1\" class=\"dataframe\">\n",
              "  <thead>\n",
              "    <tr style=\"text-align: right;\">\n",
              "      <th></th>\n",
              "      <th>title</th>\n",
              "    </tr>\n",
              "  </thead>\n",
              "  <tbody>\n",
              "    <tr>\n",
              "      <th>7768</th>\n",
              "      <td>Dark Knight Rises, The</td>\n",
              "    </tr>\n",
              "    <tr>\n",
              "      <th>8032</th>\n",
              "      <td>Batman: The Dark Knight Returns, Part 1</td>\n",
              "    </tr>\n",
              "    <tr>\n",
              "      <th>8080</th>\n",
              "      <td>Batman: The Dark Knight Returns, Part 2</td>\n",
              "    </tr>\n",
              "    <tr>\n",
              "      <th>140</th>\n",
              "      <td>First Knight</td>\n",
              "    </tr>\n",
              "    <tr>\n",
              "      <th>2417</th>\n",
              "      <td>Cry in the Dark, A</td>\n",
              "    </tr>\n",
              "    <tr>\n",
              "      <th>5778</th>\n",
              "      <td>Alone in the Dark</td>\n",
              "    </tr>\n",
              "    <tr>\n",
              "      <th>7375</th>\n",
              "      <td>Knight and Day</td>\n",
              "    </tr>\n",
              "    <tr>\n",
              "      <th>3576</th>\n",
              "      <td>Black Knight</td>\n",
              "    </tr>\n",
              "    <tr>\n",
              "      <th>3190</th>\n",
              "      <td>Knight's Tale, A</td>\n",
              "    </tr>\n",
              "    <tr>\n",
              "      <th>6858</th>\n",
              "      <td>Alone in the Dark II</td>\n",
              "    </tr>\n",
              "    <tr>\n",
              "      <th>4242</th>\n",
              "      <td>Dark Blue</td>\n",
              "    </tr>\n",
              "    <tr>\n",
              "      <th>5060</th>\n",
              "      <td>Dark Days</td>\n",
              "    </tr>\n",
              "    <tr>\n",
              "      <th>1305</th>\n",
              "      <td>Dark City</td>\n",
              "    </tr>\n",
              "    <tr>\n",
              "      <th>5483</th>\n",
              "      <td>Dark Star</td>\n",
              "    </tr>\n",
              "    <tr>\n",
              "      <th>6815</th>\n",
              "      <td>Batman: Gotham Knight</td>\n",
              "    </tr>\n",
              "    <tr>\n",
              "      <th>5934</th>\n",
              "      <td>Dark Water</td>\n",
              "    </tr>\n",
              "    <tr>\n",
              "      <th>4749</th>\n",
              "      <td>Shot in the Dark, A</td>\n",
              "    </tr>\n",
              "    <tr>\n",
              "      <th>7877</th>\n",
              "      <td>Dark Shadows</td>\n",
              "    </tr>\n",
              "    <tr>\n",
              "      <th>8766</th>\n",
              "      <td>The Dark Valley</td>\n",
              "    </tr>\n",
              "    <tr>\n",
              "      <th>6690</th>\n",
              "      <td>Taxi to the Dark Side</td>\n",
              "    </tr>\n",
              "  </tbody>\n",
              "</table>\n",
              "</div><br><label><b>dtype:</b> object</label>"
            ]
          },
          "metadata": {},
          "execution_count": 47
        }
      ]
    },
    {
      "cell_type": "markdown",
      "source": [
        "# 4. Collaborative Filtering"
      ],
      "metadata": {
        "id": "gIOmUh5Tjxr1"
      }
    },
    {
      "cell_type": "code",
      "source": [
        "import math\n",
        "import operator\n",
        "\n",
        "#Building Custom Data for Movie Rating\n",
        "review = {\n",
        "    \"Marlon Brando\": {\n",
        "    \"The Godfather\": 5.00,\n",
        "    \"The Godfather Part II\": 4.29,\n",
        "    \"Apocalypse Now\": 5.00,\n",
        "    \"Jaws\": 1.\n",
        "    },\n",
        "    \"Stephen King\": {\n",
        "    \"The Shawshank Redemption\": 4.89,\n",
        "    \"The Shining\": 4.93 ,\n",
        "    \"The Green Mile\": 4.87,\n",
        "    \"The Godfather\": 1.33,\n",
        "    },\n",
        "    \"Steven Spielberg\": {\n",
        "    \"Raiders of the Lost Ark\": 5.0,\n",
        "    \"Jaws\": 4.89,\n",
        "    \"Saving Private Ryan\": 4.78,\n",
        "    \"Star Wars Episode IV - A New Hope\": 4.33,\n",
        "    \"Close Encounters of the Third Kind\": 4.77,\n",
        "    \"The Godfather\":  1.25,\n",
        "    \"The Godfather Part II\": 1.72\n",
        "    },\n",
        "    \"George Lucas\":{\n",
        "    \"Star Wars Episode IV - A New Hope\": 5.00\n",
        "    },\n",
        "    \"Al Pacino\": {\n",
        "    \"The Godfather\": 4.02,\n",
        "    \"The Godfather Part II\": 5.00,\n",
        "    },\n",
        "    \"Robert DeNiro\": {\n",
        "    \"The Godfather\": 3.07,\n",
        "    \"The Godfather Part II\": 4.29,\n",
        "    \"Raging Bull\": 5.00,\n",
        "    \"Goodfellas\":  4.89\n",
        "    },\n",
        "    \"Robert Duvall\": {\n",
        "    \"The Godfather\": 3.80,\n",
        "    \"The Godfather Part II\": 3.61,\n",
        "    \"Apocalypse Now\": 4.26\n",
        "    },\n",
        "    \"Jack Nicholson\": {\n",
        "    \"The Shining\": 5.0,\n",
        "    \"One Flew Over The Cuckoos Nest\": 5.0,\n",
        "    \"The Godfather\": 2.22,\n",
        "    \"The Godfather Part II\": 3.34\n",
        "    },\n",
        "    \"Morgan Freeman\": {\n",
        "    \"The Shawshank Redemption\": 4.98,\n",
        "    \"The Shining\": 4.42,\n",
        "    \"Apocalypse Now\": 1.63,\n",
        "    \"The Godfather\": 1.12,\n",
        "    \"The Godfather Part II\": 2.16\n",
        "    },\n",
        "    \"Harrison Ford\": {\n",
        "    \"Raiders of the Lost Ark\": 5.0,\n",
        "    \"Star Wars Episode IV - A New Hope\": 4.84,\n",
        "    },\n",
        "    \"Tom Hanks\": {\n",
        "    \"Saving Private Ryan\": 3.78,\n",
        "    \"The Green Mile\": 4.96,\n",
        "    \"The Godfather\": 1.04,\n",
        "    \"The Godfather Part II\": 1.03\n",
        "    },\n",
        "    \"Francis Ford Coppola\": {\n",
        "    \"The Godfather\": 5.00,\n",
        "    \"The Godfather Part II\": 5.0,\n",
        "    \"Jaws\": 1.24,\n",
        "    \"One Flew Over The Cuckoos Nest\": 2.02\n",
        "    },\n",
        "    \"Martin Scorsese\": {\n",
        "    \"Raging Bull\": 5.0,\n",
        "    \"Goodfellas\": 4.87,\n",
        "    \"Close Encounters of the Third Kind\": 1.14,\n",
        "    \"The Godfather\": 4.00\n",
        "    },\n",
        "    \"Diane Keaton\": {\n",
        "    \"The Godfather\": 2.98,\n",
        "    \"The Godfather Part II\": 3.93,\n",
        "    \"Close Encounters of the Third Kind\": 1.37\n",
        "    },\n",
        "    \"Richard Dreyfuss\": {\n",
        "    \"Jaws\": 5.0,\n",
        "    \"Close Encounters of the Third Kind\": 5.0,\n",
        "    \"The Godfather\": 1.07,\n",
        "    \"The Godfather Part II\": 0.63\n",
        "    },\n",
        "    \"Joe Pesci\": {\n",
        "    \"Raging Bull\": 4.89,\n",
        "    \"Goodfellas\": 5.0,\n",
        "    \"The Godfather\": 4.87,\n",
        "    \"Star Wars Episode IV - A New Hope\": 1.32\n",
        "    }\n",
        "}"
      ],
      "metadata": {
        "id": "kq1WFcvujzgg"
      },
      "execution_count": null,
      "outputs": []
    },
    {
      "cell_type": "markdown",
      "source": [
        "## A. Judul film yang dibuat oleh sutradara yang sama"
      ],
      "metadata": {
        "id": "XSqw03dEls-o"
      }
    },
    {
      "cell_type": "code",
      "source": [
        "# Function to get common movies between Users\n",
        "def get_common_movies(criticA, criticB):\n",
        "    return [movie for movie in review[criticA] if movie in review[criticB]]"
      ],
      "metadata": {
        "id": "7_B4UJbGj-In"
      },
      "execution_count": null,
      "outputs": []
    },
    {
      "cell_type": "code",
      "source": [
        "get_common_movies(\"Marlon Brando\", \"Robert DeNiro\")"
      ],
      "metadata": {
        "colab": {
          "base_uri": "https://localhost:8080/"
        },
        "id": "NhJJu26zj_DD",
        "outputId": "2e5cf3d9-b346-408c-c580-e8946d706bf8"
      },
      "execution_count": null,
      "outputs": [
        {
          "output_type": "execute_result",
          "data": {
            "text/plain": [
              "['The Godfather', 'The Godfather Part II']"
            ]
          },
          "metadata": {},
          "execution_count": 54
        }
      ]
    },
    {
      "cell_type": "code",
      "source": [
        "get_common_movies(\"Steven Spielberg\", \"Tom Hanks\")"
      ],
      "metadata": {
        "colab": {
          "base_uri": "https://localhost:8080/"
        },
        "id": "btGKr4BlkAti",
        "outputId": "6f64f0a3-d8ad-4c62-837f-8480fc00d6b0"
      },
      "execution_count": null,
      "outputs": [
        {
          "output_type": "execute_result",
          "data": {
            "text/plain": [
              "['Saving Private Ryan', 'The Godfather', 'The Godfather Part II']"
            ]
          },
          "metadata": {},
          "execution_count": 55
        }
      ]
    },
    {
      "cell_type": "code",
      "source": [
        "get_common_movies(\"Martin Scorsese\", \"Joe Pesci\")"
      ],
      "metadata": {
        "colab": {
          "base_uri": "https://localhost:8080/"
        },
        "id": "D9AYTGCNkBuf",
        "outputId": "eb0bdb80-b671-45ed-c400-a8753a28b9f8"
      },
      "execution_count": null,
      "outputs": [
        {
          "output_type": "execute_result",
          "data": {
            "text/plain": [
              "['Raging Bull', 'Goodfellas', 'The Godfather']"
            ]
          },
          "metadata": {},
          "execution_count": 56
        }
      ]
    },
    {
      "cell_type": "markdown",
      "source": [
        "## A. Review film yang dibuat oleh sutradara yang sama"
      ],
      "metadata": {
        "id": "ZCTnlH03l16P"
      }
    },
    {
      "cell_type": "code",
      "source": [
        "# Function to get reviews from the common movies\n",
        "def get_reviews(criticA,criticB):\n",
        "    common_movies = get_common_movies(criticA, criticB)\n",
        "    return [(review[criticA][movie], review[criticB][movie]) for movie in common_movies]"
      ],
      "metadata": {
        "id": "4Rwsym4TkIjO"
      },
      "execution_count": null,
      "outputs": []
    },
    {
      "cell_type": "code",
      "source": [
        "get_reviews(\"Marlon Brando\", \"Robert DeNiro\")"
      ],
      "metadata": {
        "colab": {
          "base_uri": "https://localhost:8080/"
        },
        "id": "gyA8yO1MkJ75",
        "outputId": "152f6714-6839-42aa-8449-67dea9778c29"
      },
      "execution_count": null,
      "outputs": [
        {
          "output_type": "execute_result",
          "data": {
            "text/plain": [
              "[(5.0, 3.07), (4.29, 4.29)]"
            ]
          },
          "metadata": {},
          "execution_count": 58
        }
      ]
    },
    {
      "cell_type": "code",
      "source": [
        "get_reviews(\"Steven Spielberg\", \"Tom Hanks\")"
      ],
      "metadata": {
        "colab": {
          "base_uri": "https://localhost:8080/"
        },
        "id": "VRqaBkeHkK34",
        "outputId": "9eb51950-8b4c-4e4e-feec-7b9deb8daa05"
      },
      "execution_count": null,
      "outputs": [
        {
          "output_type": "execute_result",
          "data": {
            "text/plain": [
              "[(4.78, 3.78), (1.25, 1.04), (1.72, 1.03)]"
            ]
          },
          "metadata": {},
          "execution_count": 59
        }
      ]
    },
    {
      "cell_type": "code",
      "source": [
        "get_reviews(\"Martin Scorsese\", \"Joe Pesci\")"
      ],
      "metadata": {
        "colab": {
          "base_uri": "https://localhost:8080/"
        },
        "id": "MJLS_aNQkLzO",
        "outputId": "03c8cddb-8c88-44c2-d026-92cef313882c"
      },
      "execution_count": null,
      "outputs": [
        {
          "output_type": "execute_result",
          "data": {
            "text/plain": [
              "[(5.0, 4.89), (4.87, 5.0), (4.0, 4.87)]"
            ]
          },
          "metadata": {},
          "execution_count": 60
        }
      ]
    },
    {
      "cell_type": "markdown",
      "source": [
        "## C. Mencari Similarity"
      ],
      "metadata": {
        "id": "V3X6J2d6mBoE"
      }
    },
    {
      "cell_type": "code",
      "source": [
        "# Function to get Euclidean Distance between 2 points\n",
        "def euclidean_distance(points):\n",
        "    squared_diffs = [(point[0] - point[1]) ** 2 for point in points]\n",
        "    summed_squared_diffs = sum(squared_diffs)\n",
        "    distance = math.sqrt(summed_squared_diffs)\n",
        "    return distance"
      ],
      "metadata": {
        "id": "2d71UvYGkNHO"
      },
      "execution_count": null,
      "outputs": []
    },
    {
      "cell_type": "code",
      "source": [
        "# Function to  calculate similarity more similar less the distance and vice versa\n",
        "# Added 1 for if highly similar can make the distance zero and give NotDefined Error\n",
        "def similarity(reviews):\n",
        "    return 1 / (1 + euclidean_distance(reviews))"
      ],
      "metadata": {
        "id": "BoxRZbRykTOm"
      },
      "execution_count": null,
      "outputs": []
    },
    {
      "cell_type": "code",
      "source": [
        "# Function to get similarity between 2 users\n",
        "def get_critic_similarity(criticA, criticB):\n",
        "    reviews = get_reviews(criticA, criticB)\n",
        "    return similarity(reviews)"
      ],
      "metadata": {
        "id": "QJJgKCh0kVY1"
      },
      "execution_count": null,
      "outputs": []
    },
    {
      "cell_type": "code",
      "source": [
        "get_critic_similarity(\"Marlon Brando\", \"Robert DeNiro\")"
      ],
      "metadata": {
        "colab": {
          "base_uri": "https://localhost:8080/"
        },
        "id": "dXo8MCGbkW8P",
        "outputId": "d0f5dd94-2461-4930-f7aa-9874d4383026"
      },
      "execution_count": null,
      "outputs": [
        {
          "output_type": "execute_result",
          "data": {
            "text/plain": [
              "0.341296928327645"
            ]
          },
          "metadata": {},
          "execution_count": 64
        }
      ]
    },
    {
      "cell_type": "code",
      "source": [
        "get_critic_similarity(\"Steven Spielberg\", \"Tom Hanks\")"
      ],
      "metadata": {
        "colab": {
          "base_uri": "https://localhost:8080/"
        },
        "id": "NvwuobXBkX-c",
        "outputId": "ec8f7f38-3a57-4a18-e0ef-42a12550cfa8"
      },
      "execution_count": null,
      "outputs": [
        {
          "output_type": "execute_result",
          "data": {
            "text/plain": [
              "0.4478352722730117"
            ]
          },
          "metadata": {},
          "execution_count": 65
        }
      ]
    },
    {
      "cell_type": "code",
      "source": [
        "get_critic_similarity(\"Martin Scorsese\", \"Joe Pesci\")"
      ],
      "metadata": {
        "colab": {
          "base_uri": "https://localhost:8080/"
        },
        "id": "tQeLzO72kZTK",
        "outputId": "5ff66d3b-be46-44b5-e252-6281519247ee"
      },
      "execution_count": null,
      "outputs": [
        {
          "output_type": "execute_result",
          "data": {
            "text/plain": [
              "0.5300793497254199"
            ]
          },
          "metadata": {},
          "execution_count": 66
        }
      ]
    },
    {
      "cell_type": "markdown",
      "source": [
        "## D. Membuat sistem rekomendasi"
      ],
      "metadata": {
        "id": "aSgjUbAhmFZp"
      }
    },
    {
      "cell_type": "code",
      "source": [
        "# Function to give recommendation to users based on their reviews.\n",
        "def recommend_movies(critic, num_suggestions):\n",
        "    similarity_scores = [(get_critic_similarity(critic, other), other) for other in review if other != critic]\n",
        "    # Get similarity Scores for all the critics\n",
        "    similarity_scores.sort()\n",
        "    similarity_scores.reverse()\n",
        "    similarity_scores = similarity_scores[0:num_suggestions]\n",
        "\n",
        "    recommendations = {}\n",
        "    # Dictionary to store recommendations\n",
        "    for similarity, other in similarity_scores:\n",
        "        reviewed = review[other]\n",
        "        # Storing the review\n",
        "        for movie in reviewed:\n",
        "            if movie not in review[critic]:\n",
        "                weight = similarity * reviewed[movie]\n",
        "                # Weighing similarity with review\n",
        "                if movie in recommendations:\n",
        "                    sim, weights = recommendations[movie]\n",
        "                    recommendations[movie] = (sim + similarity, weights + [weight])\n",
        "                    # Similarity of movie along with weight\n",
        "                else:\n",
        "                    recommendations[movie] = (similarity, [weight])\n",
        "\n",
        "\n",
        "    for recommendation in recommendations:\n",
        "        similarity, movie = recommendations[recommendation]\n",
        "        recommendations[recommendation] = sum(movie) / similarity\n",
        "        # Normalizing weights with similarity\n",
        "\n",
        "    sorted_recommendations = sorted(recommendations.items(), key = operator.itemgetter(1), reverse = True)\n",
        "    #Sorting recommendations with weight\n",
        "    return sorted_recommendations"
      ],
      "metadata": {
        "id": "fv0eF3Yjke_5"
      },
      "execution_count": null,
      "outputs": []
    },
    {
      "cell_type": "code",
      "source": [
        "recommend_movies(\"Marlon Brando\", 4)"
      ],
      "metadata": {
        "colab": {
          "base_uri": "https://localhost:8080/"
        },
        "id": "cyD4MoFAkgeP",
        "outputId": "92286ed9-2036-4f6d-b3df-16689f4c2ac0"
      },
      "execution_count": null,
      "outputs": [
        {
          "output_type": "execute_result",
          "data": {
            "text/plain": [
              "[('Goodfellas', 5.000000000000001),\n",
              " ('Raiders of the Lost Ark', 5.0),\n",
              " ('Raging Bull', 4.89),\n",
              " ('Star Wars Episode IV - A New Hope', 3.8157055214723923),\n",
              " ('One Flew Over The Cuckoos Nest', 2.02)]"
            ]
          },
          "metadata": {},
          "execution_count": 68
        }
      ]
    },
    {
      "cell_type": "code",
      "source": [
        "recommend_movies(\"Robert DeNiro\", 4)"
      ],
      "metadata": {
        "colab": {
          "base_uri": "https://localhost:8080/"
        },
        "id": "P3MDtksTkipC",
        "outputId": "ee32466d-c530-4e37-dd3c-700547e467aa"
      },
      "execution_count": null,
      "outputs": [
        {
          "output_type": "execute_result",
          "data": {
            "text/plain": [
              "[('Raiders of the Lost Ark', 5.0),\n",
              " ('Star Wars Episode IV - A New Hope', 4.92),\n",
              " ('Close Encounters of the Third Kind', 1.2744773851327365)]"
            ]
          },
          "metadata": {},
          "execution_count": 69
        }
      ]
    },
    {
      "cell_type": "code",
      "source": [
        "recommend_movies(\"Steven Spielberg\", 4)"
      ],
      "metadata": {
        "colab": {
          "base_uri": "https://localhost:8080/"
        },
        "id": "EYrDQJARklb-",
        "outputId": "2f26f1b1-7fec-4ed8-97fb-e1587888ae50"
      },
      "execution_count": null,
      "outputs": [
        {
          "output_type": "execute_result",
          "data": {
            "text/plain": [
              "[('The Shawshank Redemption', 4.928285762244913),\n",
              " ('The Green Mile', 4.87),\n",
              " ('The Shining', 4.71304734727882),\n",
              " ('Apocalypse Now', 1.63)]"
            ]
          },
          "metadata": {},
          "execution_count": 70
        }
      ]
    },
    {
      "cell_type": "code",
      "source": [
        "recommend_movies(\"Tom Hanks\", 4)"
      ],
      "metadata": {
        "colab": {
          "base_uri": "https://localhost:8080/"
        },
        "id": "Nig_YUcgkj_F",
        "outputId": "ddc97f72-7354-414c-c32e-2a51e5094822"
      },
      "execution_count": null,
      "outputs": [
        {
          "output_type": "execute_result",
          "data": {
            "text/plain": [
              "[('Raiders of the Lost Ark', 5.0),\n",
              " ('Jaws', 5.0),\n",
              " ('Close Encounters of the Third Kind', 5.0),\n",
              " ('The Shining', 4.93),\n",
              " ('Star Wars Episode IV - A New Hope', 4.92),\n",
              " ('The Shawshank Redemption', 4.89)]"
            ]
          },
          "metadata": {},
          "execution_count": 71
        }
      ]
    }
  ]
}